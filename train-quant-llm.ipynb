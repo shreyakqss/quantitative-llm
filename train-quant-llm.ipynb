{
 "cells": [
  {
   "cell_type": "code",
   "execution_count": 1,
   "metadata": {},
   "outputs": [],
   "source": [
    "%reload_ext dotenv\n",
    "%dotenv"
   ]
  },
  {
   "cell_type": "code",
   "execution_count": 35,
   "metadata": {},
   "outputs": [],
   "source": [
    "from llama_index import VectorStoreIndex, SimpleDirectoryReader\n",
    "import os\n",
    "import openai\n",
    "import pandas as pd\n",
    "\n",
    "def get_query_engine_from_text(txtfile):\n",
    "  openai.api_key = os.environ['OPENAI_API_KEY']\n",
    "  documents = SimpleDirectoryReader(txtfile).load_data()\n",
    "  index = VectorStoreIndex.from_documents(documents)\n",
    "  query_engine = index.as_query_engine()\n",
    "  return query_engine\n",
    "\n",
    "def csv_to_llminput(csvpath,txtOutputPath):\n",
    "    df = pd.read_csv(csvpath)\n",
    "    f = open(txtOutputPath,\"w\")\n",
    "    print(\"Started writing to: \",txtOutputPath)\n",
    "    for index, row in df.iterrows():\n",
    "      f.write(\"Price of house with area of {area} and {bedrooms} bedrooms is {price}\\n\".format(area=row['area'],bedrooms=row['bedrooms'],price=row['price']))\n",
    "    f.close()\n",
    "    print(\"Completed writing to: \",txtOutputPath)"
   ]
  },
  {
   "cell_type": "code",
   "execution_count": 38,
   "metadata": {},
   "outputs": [
    {
     "name": "stdout",
     "output_type": "stream",
     "text": [
      "Started writing to:  ./data/Housing-csv-llminput.txt\n",
      "Completed writing to:  ./data/Housing-csv-llminput.txt\n"
     ]
    }
   ],
   "source": [
    "csv_to_llminput('./data/Housing.csv','./data/Housing-csv-llminput.txt')"
   ]
  },
  {
   "cell_type": "code",
   "execution_count": 40,
   "metadata": {},
   "outputs": [
    {
     "data": {
      "text/plain": [
       "'\\nThe house with the least number of bedrooms is a house with an area of 3970 and 1 bedroom, with a price of 2275000.'"
      ]
     },
     "execution_count": 40,
     "metadata": {},
     "output_type": "execute_result"
    }
   ],
   "source": [
    "query_engine = get_query_engine_from_text('data')\n",
    "resp = query_engine.query(\"What house has least number of bedrooms?\")\n",
    "\n",
    "resp.response"
   ]
  },
  {
   "cell_type": "code",
   "execution_count": 44,
   "metadata": {},
   "outputs": [
    {
     "data": {
      "text/html": [
       "<div>\n",
       "<style scoped>\n",
       "    .dataframe tbody tr th:only-of-type {\n",
       "        vertical-align: middle;\n",
       "    }\n",
       "\n",
       "    .dataframe tbody tr th {\n",
       "        vertical-align: top;\n",
       "    }\n",
       "\n",
       "    .dataframe thead th {\n",
       "        text-align: right;\n",
       "    }\n",
       "</style>\n",
       "<table border=\"1\" class=\"dataframe\">\n",
       "  <thead>\n",
       "    <tr style=\"text-align: right;\">\n",
       "      <th></th>\n",
       "      <th>price</th>\n",
       "      <th>area</th>\n",
       "      <th>bedrooms</th>\n",
       "      <th>bathrooms</th>\n",
       "      <th>stories</th>\n",
       "      <th>mainroad</th>\n",
       "      <th>guestroom</th>\n",
       "      <th>basement</th>\n",
       "      <th>hotwaterheating</th>\n",
       "      <th>airconditioning</th>\n",
       "      <th>parking</th>\n",
       "      <th>prefarea</th>\n",
       "      <th>furnishingstatus</th>\n",
       "    </tr>\n",
       "  </thead>\n",
       "  <tbody>\n",
       "    <tr>\n",
       "      <th>0</th>\n",
       "      <td>13300000</td>\n",
       "      <td>7420</td>\n",
       "      <td>4</td>\n",
       "      <td>2</td>\n",
       "      <td>3</td>\n",
       "      <td>yes</td>\n",
       "      <td>no</td>\n",
       "      <td>no</td>\n",
       "      <td>no</td>\n",
       "      <td>yes</td>\n",
       "      <td>2</td>\n",
       "      <td>yes</td>\n",
       "      <td>furnished</td>\n",
       "    </tr>\n",
       "  </tbody>\n",
       "</table>\n",
       "</div>"
      ],
      "text/plain": [
       "      price  area  bedrooms  bathrooms  stories mainroad guestroom basement  \\\n",
       "0  13300000  7420         4          2        3      yes        no       no   \n",
       "\n",
       "  hotwaterheating airconditioning  parking prefarea furnishingstatus  \n",
       "0              no             yes        2      yes        furnished  "
      ]
     },
     "execution_count": 44,
     "metadata": {},
     "output_type": "execute_result"
    }
   ],
   "source": [
    "from pandasai import PandasAI\n",
    "from pandasai.llm.openai import OpenAI\n",
    "\n",
    "llm = OpenAI(api_token=os.environ['OPENAI_API_KEY'])\n",
    "pandas_ai = PandasAI(llm,enable_cache=False)\n",
    "\n",
    "df = pd.read_csv('./data/Housing.csv')\n",
    "pandas_ai.run(df,prompt='display house with the highest price')\n"
   ]
  }
 ],
 "metadata": {
  "kernelspec": {
   "display_name": "venv",
   "language": "python",
   "name": "python3"
  },
  "language_info": {
   "codemirror_mode": {
    "name": "ipython",
    "version": 3
   },
   "file_extension": ".py",
   "mimetype": "text/x-python",
   "name": "python",
   "nbconvert_exporter": "python",
   "pygments_lexer": "ipython3",
   "version": "3.9.5"
  },
  "orig_nbformat": 4,
  "vscode": {
   "interpreter": {
    "hash": "e3b6f46444ba734cd4be835e2a27a6d0eb4e147c15463f424a2fb33a163a798b"
   }
  }
 },
 "nbformat": 4,
 "nbformat_minor": 2
}
